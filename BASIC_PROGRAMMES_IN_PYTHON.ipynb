{
  "nbformat": 4,
  "nbformat_minor": 0,
  "metadata": {
    "colab": {
      "name": "BASIC PROGRAMMES IN PYTHON",
      "provenance": [],
      "authorship_tag": "ABX9TyPyUL73Fl8PCLV5JfNt8dDi",
      "include_colab_link": true
    },
    "kernelspec": {
      "name": "python3",
      "display_name": "Python 3"
    },
    "language_info": {
      "name": "python"
    }
  },
  "cells": [
    {
      "cell_type": "markdown",
      "metadata": {
        "id": "view-in-github",
        "colab_type": "text"
      },
      "source": [
        "<a href=\"https://colab.research.google.com/github/gowrisankar116/basic-ml/blob/main/BASIC_PROGRAMMES_IN_PYTHON.ipynb\" target=\"_parent\"><img src=\"https://colab.research.google.com/assets/colab-badge.svg\" alt=\"Open In Colab\"/></a>"
      ]
    },
    {
      "cell_type": "markdown",
      "metadata": {
        "id": "TQWWHyjvmgoU"
      },
      "source": [
        "Printing hello world in python\n"
      ]
    },
    {
      "cell_type": "code",
      "metadata": {
        "colab": {
          "base_uri": "https://localhost:8080/"
        },
        "id": "T_RTidtrlyX4",
        "outputId": "c4eded4b-77e9-4c5f-ea83-6afd68cb6a32"
      },
      "source": [
        "#HELLO WORLD\n",
        "print(\"HELLO WORLD\")"
      ],
      "execution_count": 1,
      "outputs": [
        {
          "output_type": "stream",
          "text": [
            "HELLO WORLD\n"
          ],
          "name": "stdout"
        }
      ]
    },
    {
      "cell_type": "markdown",
      "metadata": {
        "id": "sIFpZ8K7mula"
      },
      "source": [
        "ADDING TWO NUMBERS IN PYTHON\n"
      ]
    },
    {
      "cell_type": "code",
      "metadata": {
        "colab": {
          "base_uri": "https://localhost:8080/"
        },
        "id": "3jt3HSZZm1o_",
        "outputId": "80e4a46e-8af7-4631-d923-4b54733c29d1"
      },
      "source": [
        "a=int(input())\n",
        "b=int(input())\n",
        "print(a+b)"
      ],
      "execution_count": 2,
      "outputs": [
        {
          "output_type": "stream",
          "text": [
            "5\n",
            "4\n",
            "9\n"
          ],
          "name": "stdout"
        }
      ]
    },
    {
      "cell_type": "markdown",
      "metadata": {
        "id": "F0nCLl5onJpB"
      },
      "source": [
        "MULTYPLYING TWO NUMBERS IN PYTHON"
      ]
    },
    {
      "cell_type": "code",
      "metadata": {
        "colab": {
          "base_uri": "https://localhost:8080/"
        },
        "id": "8peYUSAsnXB-",
        "outputId": "d6c56b42-b1e7-493c-b5e1-3eedc99df709"
      },
      "source": [
        "a=int(input())\n",
        "b=int(input())\n",
        "print(a*b)"
      ],
      "execution_count": 4,
      "outputs": [
        {
          "output_type": "stream",
          "text": [
            "5\n",
            "5\n",
            "25\n"
          ],
          "name": "stdout"
        }
      ]
    }
  ]
}